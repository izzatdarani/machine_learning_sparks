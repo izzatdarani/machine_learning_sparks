{
 "cells": [
  {
   "cell_type": "code",
   "execution_count": 3,
   "metadata": {},
   "outputs": [
    {
     "data": {
      "text/plain": [
       "'1.12.0'"
      ]
     },
     "execution_count": 3,
     "metadata": {},
     "output_type": "execute_result"
    }
   ],
   "source": [
    "# check installation\n",
    "import tensorflow as tf\n",
    "tf.__version__"
   ]
  },
  {
   "cell_type": "code",
   "execution_count": 6,
   "metadata": {
    "collapsed": true
   },
   "outputs": [],
   "source": [
    "import numpy as np"
   ]
  },
  {
   "cell_type": "code",
   "execution_count": 7,
   "metadata": {},
   "outputs": [
    {
     "data": {
      "text/plain": [
       "array([3, 6, 9])"
      ]
     },
     "execution_count": 7,
     "metadata": {},
     "output_type": "execute_result"
    }
   ],
   "source": [
    "a = np.array([1, 2, 3])\n",
    "b = np.array([2, 4, 6])\n",
    "c = np.add(a, b)\n",
    "\n",
    "c"
   ]
  },
  {
   "cell_type": "code",
   "execution_count": 14,
   "metadata": {},
   "outputs": [
    {
     "name": "stdout",
     "output_type": "stream",
     "text": [
      "Tensor(\"Add_4:0\", shape=(3,), dtype=int32)\n"
     ]
    }
   ],
   "source": [
    "# tensor - no immediate evaluation\n",
    "x = tf.constant([1,2,3], name=\"x\")\n",
    "y = tf.constant([2,4,6], name=\"y\")\n",
    "z = tf.add(x,y) # no calculation happens at this line\n",
    "print(z)"
   ]
  },
  {
   "cell_type": "code",
   "execution_count": 15,
   "metadata": {},
   "outputs": [
    {
     "name": "stdout",
     "output_type": "stream",
     "text": [
      "[3 6 9]\n"
     ]
    }
   ],
   "source": [
    "# session.run\n",
    "with tf.Session() as sess:\n",
    "    result = sess.run(z) # a sess comes with a graph\n",
    "    print(result) # calculation happens here!"
   ]
  },
  {
   "cell_type": "code",
   "execution_count": 16,
   "metadata": {
    "collapsed": true
   },
   "outputs": [],
   "source": [
    "# graph and session property of tf makes it lazy operator"
   ]
  },
  {
   "cell_type": "code",
   "execution_count": 17,
   "metadata": {},
   "outputs": [
    {
     "name": "stdout",
     "output_type": "stream",
     "text": [
      "0\n",
      "1\n",
      "2\n",
      "3\n",
      "4\n",
      "5\n"
     ]
    }
   ],
   "source": [
    "# Variable\n",
    "\n",
    "state = tf.Variable(0, name = 'counter') #a Variable init as 0, named as counter\n",
    "current = tf.add(state, 1) # an operator:add 1 to the variable:state\n",
    "\n",
    "update = tf.assign(state, current) #state <- current\n",
    "\n",
    "#Note: Always remember to init operator if using Variable\n",
    "init = tf.global_variables_initializer()\n",
    "with tf.Session() as sess:\n",
    "    sess.run(init)\n",
    "    print(sess.run(state)) # print init value\n",
    "\n",
    "    for _ in range(5):\n",
    "        sess.run(update)\n",
    "        print(sess.run(state))"
   ]
  },
  {
   "cell_type": "code",
   "execution_count": 18,
   "metadata": {
    "collapsed": true
   },
   "outputs": [],
   "source": [
    "# why tensorflow has this lazy propery is to let it runs faster\n",
    "# maybe it's like the memory allocation i think"
   ]
  },
  {
   "cell_type": "code",
   "execution_count": 19,
   "metadata": {},
   "outputs": [
    {
     "name": "stdout",
     "output_type": "stream",
     "text": [
      "Tensor(\"Placeholder:0\", dtype=float32)\n",
      "[[ 2.2  4.4  6.6]\n",
      " [ 4.   8.  12. ]]\n"
     ]
    }
   ],
   "source": [
    "# Placeholder\n",
    "\n",
    "p1 = tf.placeholder(\"float\", None)\n",
    "p2 = p1 * 2\n",
    "\n",
    "print(p1)\n",
    "\n",
    "with tf.Session() as sess:\n",
    "    print(sess.run(p2, feed_dict={p1: [[1.1,2.2,3.3],[2,4,6]]}))"
   ]
  },
  {
   "cell_type": "code",
   "execution_count": 20,
   "metadata": {},
   "outputs": [
    {
     "name": "stdout",
     "output_type": "stream",
     "text": [
      "5\n"
     ]
    }
   ],
   "source": [
    "a, b, c, d = tf.constant(1), tf.constant(2), tf.constant(3),tf.constant(4)\n",
    "\n",
    "add = tf.add(a,b)\n",
    "mul = tf.multiply(add, c)\n",
    "sub = tf.subtract(mul, d)\n",
    "\n",
    "# TH: Try this\n",
    "#add = a + b\n",
    "#mul = add * c\n",
    "#sub = mul - d\n",
    "\n",
    "with tf.Session() as sess:\n",
    "    fwrite = tf.summary.FileWriter('./lab1_tensorboard', sess.graph)\n",
    "    print(sess.run(sub))\n",
    "fwrite.close()"
   ]
  }
 ],
 "metadata": {
  "kernelspec": {
   "display_name": "Python 3",
   "language": "python",
   "name": "python3"
  },
  "language_info": {
   "codemirror_mode": {
    "name": "ipython",
    "version": 3
   },
   "file_extension": ".py",
   "mimetype": "text/x-python",
   "name": "python",
   "nbconvert_exporter": "python",
   "pygments_lexer": "ipython3",
   "version": "3.6.4"
  }
 },
 "nbformat": 4,
 "nbformat_minor": 2
}
