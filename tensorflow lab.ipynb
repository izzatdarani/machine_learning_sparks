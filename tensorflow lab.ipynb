{
 "cells": [
  {
   "cell_type": "code",
   "execution_count": 6,
   "metadata": {},
   "outputs": [],
   "source": [
    "import tensorflow as td\n",
    "import numpy as np\n",
    "import pandas as pd\n",
    "import shutil"
   ]
  },
  {
   "cell_type": "code",
   "execution_count": 12,
   "metadata": {},
   "outputs": [],
   "source": [
    "df_orig = pd.read_csv('Lab/data/proprental/RentIndexRaw.csv', low_memory=False)"
   ]
  },
  {
   "cell_type": "code",
   "execution_count": 13,
   "metadata": {},
   "outputs": [
    {
     "name": "stdout",
     "output_type": "stream",
     "text": [
      "Original dataset: (54405, 22)\n",
      "Selangor dataset: (30292, 22)\n",
      "KL dataset: (13648, 22)\n",
      "Wanted dataset: (20626, 22)\n"
     ]
    }
   ],
   "source": [
    "print('Original dataset: {}'.format(df_orig.shape))\n",
    "\n",
    "df_orig['State'] = df_orig['State'].str.upper()\n",
    "df_orig['City'] = df_orig['City'].str.upper()\n",
    "df_orig['PropertyType'] = df_orig['PropertyType'].str.upper()\n",
    "\n",
    "# Selangor\n",
    "df_sel = df_orig[(df_orig.State == 'SELANGOR')]\n",
    "print('Selangor dataset: {}'.format(df_sel.shape))\n",
    "\n",
    "# KL\n",
    "df_kul = df_orig[(df_orig.State == 'KUALA-LUMPUR')]\n",
    "print('KL dataset: {}'.format(df_kul.shape))\n",
    "\n",
    "\n",
    "# remove rows with zero value\n",
    "df = df_sel[(df_sel[['BuiltUpSize','RentalPerMth', 'NoOfBedroom']] != 0).all(axis=1)]\n",
    "                            #'NoOfBathroom', 'NoOfParking']] != 0).all(axis=1)]\n",
    "\n",
    "\n",
    "print('Wanted dataset: {}'.format(df.shape))"
   ]
  },
  {
   "cell_type": "code",
   "execution_count": null,
   "metadata": {
    "collapsed": true
   },
   "outputs": [],
   "source": []
  }
 ],
 "metadata": {
  "kernelspec": {
   "display_name": "Python 3",
   "language": "python",
   "name": "python3"
  },
  "language_info": {
   "codemirror_mode": {
    "name": "ipython",
    "version": 3
   },
   "file_extension": ".py",
   "mimetype": "text/x-python",
   "name": "python",
   "nbconvert_exporter": "python",
   "pygments_lexer": "ipython3",
   "version": "3.6.4"
  }
 },
 "nbformat": 4,
 "nbformat_minor": 2
}
